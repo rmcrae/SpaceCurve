{
 "cells": [
  {
   "cell_type": "markdown",
   "id": "2b363258",
   "metadata": {},
   "source": [
    "# Space-Filling Curves"
   ]
  },
  {
   "cell_type": "code",
   "execution_count": 388,
   "id": "04d7db6c",
   "metadata": {},
   "outputs": [],
   "source": [
    "%matplotlib inline\n",
    "from scipy import *\n",
    "from numpy import *\n",
    "from bqplot import *\n",
    "from pylab import *\n",
    "import matplotlib.patches as patches\n",
    "import bqplot.pyplot as plt\n",
    "matplotlib.rc('text.latex', preamble=r'\\usepackage{amsmath}')\n",
    "matplotlib.rcParams['text.latex.preamble']=r\"\\usepackage{amsmath}\"\n",
    "matplotlib.rcParams['figure.figsize'] = [8,6]"
   ]
  },
  {
   "cell_type": "code",
   "execution_count": 389,
   "id": "f2515082",
   "metadata": {},
   "outputs": [
    {
     "data": {
      "text/html": [
       "<style>\n",
       "div.input {\n",
       "    display:none;\n",
       "}\n",
       "</style>\n"
      ],
      "text/plain": [
       "<IPython.core.display.HTML object>"
      ]
     },
     "metadata": {},
     "output_type": "display_data"
    }
   ],
   "source": [
    "%%html\n",
    "<style>\n",
    "div.input {\n",
    "    display:none;\n",
    "}\n",
    "</style>"
   ]
  },
  {
   "cell_type": "code",
   "execution_count": 390,
   "id": "0072c9d3",
   "metadata": {},
   "outputs": [
    {
     "data": {
      "image/png": "[encoded data removed]",
      "text/plain": [
       "<Figure size 576x432 with 2 Axes>"
      ]
     },
     "metadata": {},
     "output_type": "display_data"
    }
   ],
   "source": [
    "# top illustration\n",
    "# Hilbert algorithm here from \"Hilbert curve\" wikipedia page\n",
    "\n",
    "def d2xy(n, d):\n",
    "    '''converts distance on line to x,y coordinates'''\n",
    "    x = y = 0\n",
    "    t = d\n",
    "    s = 1\n",
    "    while s < n:\n",
    "        rx = 1 & (t//2)\n",
    "        ry = 1 & (t ^ rx)\n",
    "        x, y = rot(s, x, y, rx, ry)\n",
    "        x += s * rx\n",
    "        y += s * ry\n",
    "        t //= 4\n",
    "        s *= 2\n",
    "    return x, y\n",
    "        \n",
    "def rot(n, x, y, rx, ry):\n",
    "    if (ry == 0):\n",
    "        if (rx == 1):\n",
    "            x = n-1 - x\n",
    "            y = n-1 - y  \n",
    "        t = x\n",
    "        x = y\n",
    "        y = t\n",
    "    return x, y\n",
    "\n",
    "# put together path for n = 32\n",
    "n = 32\n",
    "xc = [0]\n",
    "yc = [0]\n",
    "for d in range(1, n**2 ):\n",
    "    x,y = d2xy(n,d)\n",
    "    xc.append(x)\n",
    "    yc.append(y)\n",
    "\n",
    "# attempt Peano curve: my code\n",
    "\n",
    "xp0 = array([0,0,0,1,1,1,2,2,2])\n",
    "yp0 = array([0,1,2,2,1,0,0,1,2])\n",
    "\n",
    "def pearot(xn, yn, xx, yy, d = 3):\n",
    "    if xx == 1:\n",
    "        yn = d-1 - yn\n",
    "        \n",
    "    if yy == 1:\n",
    "        xn = d-1 - xn\n",
    "        \n",
    "    return xn, yn\n",
    "\n",
    "def Peano(n):\n",
    "    '''implements Peano recursion'''\n",
    "    d = n\n",
    "    if n==3:\n",
    "        return xp0, yp0\n",
    "    else:\n",
    "        xout = array([])\n",
    "        yout = array([])\n",
    "        d //= 3\n",
    "        xn, yn = Peano(d)\n",
    "        for im in range(9):\n",
    "            xx = xp0[im]\n",
    "            yy = yp0[im]\n",
    "            #flip = dirp[im]\n",
    "            xnew, ynew = pearot(xn,yn,xx,yy,d)\n",
    "            xout = append(xout, d*xx + xnew)\n",
    "            yout = append(yout, d*yy + ynew)\n",
    "        return xout, yout\n",
    "    \n",
    "xp, yp = Peano(27)\n",
    "\n",
    "fig, (ax1, ax2) = subplots(1, 2)\n",
    "ax2.plot(xc,yc)\n",
    "ax1.plot(xp,yp)\n",
    "\n",
    "#ax = gca()\n",
    "# force equal aspect ratio, remove spines and ticks\n",
    "for ax in [ax1, ax2]:\n",
    "    ax.set_aspect('equal', adjustable='box')\n",
    "    ax.axes.xaxis.set_ticks([])\n",
    "    ax.axes.yaxis.set_ticks([])\n",
    "    for item in ax.spines.values():\n",
    "        item.set_visible(False)"
   ]
  },
  {
   "cell_type": "markdown",
   "id": "c45c4870",
   "metadata": {},
   "source": [
    "## Cantor and Dimensional Confusion\n",
    "\n",
    "A number of mathematically distressing developments occured in the latter part of the nineteenth century.  Weierstrass proved his continuous but nowhere differentiable function in 1872.  In 1873, the Russian-German mathematician Georg Cantor proved that rational numbers are *countable*, implying that almost all real numbers are *transcendental* -- disturbing, since transcendental numbers are so hard to find (and prove).\n",
    "\n",
    "Then, Cantor asked the following question (taken from a letter to Richard Dedekind of January 5, 1874):\n",
    "\n",
    "> Can a surface (say a square that includes the boundary) be uniquiely referred to a line (say a straight line segment that includes the end points) so that for every point on the sruface there is a corresponding point of the line and, converseley, for every point of the line there is a corresponding point of the surface?\n",
    "\n",
    "In correspondence between the two mathematicians over 1874 - 1877, they (well, mostly Cantor) worked out the details, eventually proving that this could be done!  Each point in a square can be addressed by using a *single* number; using both an $x$ and $y$ coordinate is not necessary!  This introduces some confusion about the nature of dimensionality itself...\n",
    "\n",
    "Skipping some of the historical confusion that they worked through, and phrasing in less unwieldy terminology than in the original, here's an outline of how to do this:"
   ]
  },
  {
   "cell_type": "markdown",
   "id": "d5bc2d50",
   "metadata": {},
   "source": [
    "To go from the unit line segment the unit square:\n",
    "\n",
    "Take a number on the unit line segment, and break its decimal representation into \"atoms\", $\\alpha_i$, which are integer patterns either without zeros or including all preceding zeros.\n",
    "\n",
    "For example, suppose the number chosen is $z = 0.12030045600007809.....$.  Then the atoms in this number are:  $\\alpha_1 = 1$, $\\alpha_2 = 2$, $\\alpha_3 = 03$, $\\alpha_4 = 004$, $\\alpha_5 = 5$, $\\alpha_6 = 6$, $\\alpha_7 = 00007$, $\\alpha_8 = 8$, $\\alpha_9 = 09$, *etc.*  Then the point in the unit square associated with this number has coordinates:  $x = 0.\\alpha_1\\alpha_3\\alpha_5\\alpha_7\\alpha_9...$ and $y = 0.\\alpha_2\\alpha_4\\alpha_6\\alpha_8\\alpha_{10}...$.  In our example, then, the coordinates are:  $x = 0.10350000709...$ and $y = 0.200468...$.  (This use of \"atoms\" rather than merely the raw digits avoids some complications caused by numbers that can have finite digital representations...skipping details).\n",
    "\n",
    "After proving this (and seeking Dedekind's experienced approval of his proof), Cantor wrote (letter to Dedekind of June 29, 1877)\n",
    "\n",
    "> je le vois, mais je ne le crois pas\n",
    "\n",
    "\"I see it, but I do not believe it.\"\n",
    "\n",
    "(As both were Germans, there correspondence was all in German, but for whatever reason, Cantor decided to express this in French, and as such it remains a famous quote in mathematics history...)\n",
    "\n",
    "Dedekind then proposed the following theorem:\n",
    "\n",
    "> If it is possible to establish a reciprocal, one-to-one, and onto correspondence between the points of a continuous manifold A of $a$ dimensions and the points of a continuous manifold B of $b$ dimensions, then this correspondence itself, if $a$ and $b$ are unequal, is necessarily utterly discontinuous\n",
    "\n",
    "By 1878, four different mathematicians had proven this for manifolds of dimension not greater than three.  (The general case was not completely proven until 1911.)  The three important, intrinsic qualitites of any correspondence between a line segment and a square are its *injectivity* (one-to-one), its *surjectivity* (onto) and its continuity -- and according to this result, it cannot possess all three.  The above correspondence found by Cantor is both one-to-one and onto (*bijective*), and hence is discontinuous.\n",
    "\n",
    "This begs the obvious question that leads to this week's curve:  Can one find a surjective (onto) and *continuous* (and hence, necessarily non-injective) mapping from the unit interval onto the unit square?\n"
   ]
  },
  {
   "cell_type": "markdown",
   "id": "c103191e",
   "metadata": {},
   "source": [
    "It was not until 1890 that the first such mapping was found, by Italian mathematician, logician and priest Giuseppe Peano.  (Peano was apparently responsible for introducing $\\in$ as the set inclusion symbol as well as its reflection $\\ni$ for the phrase \"such that\" into the set of math symbols).  How on earth he managed to think of this particular example is mysterious..."
   ]
  },
  {
   "cell_type": "markdown",
   "id": "5770ec5e",
   "metadata": {},
   "source": [
    "## The Peano Construction\n",
    "\n",
    "Define the operator $k$ by $kt = 2 - t$ for $t \\in {0, 1, 2}$, so that the $n^{th}$ iteration of $k$ is denoted $k^n$.  Note that $k^2t = k(kt) = k(2-t) = 2 - (2-t) = t$, so that $k^{2n}t = t$ and $k^{2n-1}t = 2-t$.  With this, if $k^nt = x$, then $t = k^nx$.\n",
    "\n",
    "Now represent numbers $t \\in I$ in base 3 (ternary) notation, so $t = 0_3t_1t_2t_3t_4t_5t_6...$ where all $t_i \\in {0,1,2}$.\n",
    "\n",
    "The mapping of interest, $f: I \\rightarrow S$ is defined so that the $x$ component of the image has as its digits the cumulative even-numbered iterations of the ternary expansion of the odd-numbered places of $t$ and the $y$ component's digits have the cumulative odd-numbereed iterations of the teriary expansion of the even-numbered places of $t$.  Specifically,\n",
    "\n",
    "$$ f(t) = (0_3t_1(k^{t_2}t_3)(k^{t_2+t_4}t_5)(k^{t_2+t_4+t_6}t_7)...,$$\n",
    "$$ 0_3(k^{t_1}t_2)(k^{t_1+t_3}t_4)(^{t_1+t_3+t_5}t_6)... )$$\n",
    "$$=(f_x(t), f_y(t))$$\n",
    "\n",
    "Perhaps an example will help.  Let's find the image of the point $t = 0_31102100212... = 0.4736405...$, where $t_1=1$, $t_2=1$, $t_3=0$,$t_4=2$, $t_5=1$, $t_6=0$, $t_7=0$,$t_8=2$, $t_9=1$, $t_{10}=2$:\n",
    "\n",
    "$$ f_x(t) = 0_31(k^10)(k^31)(k^30)(k^51)... = 0_31(k0)(k1)(k0)(k1)...$$\n",
    "$$ = 0_312121...=0.62139...$$\n",
    "\n",
    "and \n",
    "\n",
    "$$ f_y(t) = 0_3(k^11)(k^12)(k^22)(k^32)... = 0_3(k1)(k2)(2)(k2)... = 0_31020... = 0.4074...$$\n",
    "\n",
    "So, in base 10, the correspondence is\n",
    "\n",
    "$$ 0.4736405... \\rightarrow (0.62139..., 0.4074...).$$\n",
    "\n",
    "It is worth noting that even in the case of ambiguity of expression, *e.g.* expressing the number $\\frac{1}{3}$ in ternary as either $0_310000...$ or as $0_30222222....$, this mapping leads to the same results, so it is well-defined.\n"
   ]
  },
  {
   "cell_type": "markdown",
   "id": "70904ec4",
   "metadata": {},
   "source": [
    "### Surjectivity\n",
    "\n",
    "To prove that this mapping is *onto*, we need to establish that for every point \n",
    "\n",
    "$$s = (0_3x_1x_2x_3x_4x_5x_6..., 0_3y_1y_2y_3y_4y_5y_6...) \\in S$$\n",
    "\n",
    "we can find a point $t = 0_3t_1t_2t_3t_4t_5t_6... \\in I$ such that $f(t) = s$.  Applying the mapping, we require that\n",
    "\n",
    "$$(0_3t_1(k^{t_2}t_3)(k^{t_2+t_4}t_5)(k^{t_2+t_4+t_6}t_7)..., 0_3(k^{t_1}t_2)(k^{t_1+t_3}t_4)(k^{t_1+t_3+t_5}t_6)...)$$\n",
    "$$ = (0_3x_1x_2x_3x_4x_5x_6...,0_3y_1y_2y_3y_4y_5y_6...).$$\n",
    "\n",
    "By matching up the coordinates, wee see that\n",
    "\n",
    "$$t_1 = x_1,$$\n",
    "$$k^{t_1}t_2 = y_1 \\Rightarrow t_2 = k^{t_1}y_1,$$\n",
    "$$k^{t_2}t_3 = x_2 \\Rightarrow t_3 = k^{t_2}x_2, $$\n",
    "$$k^{t_1+t_3}t_4 = y_2 \\Rightarrow t_4 = k^{t_1+t_3}y_2,$$\n",
    "$$k^{t_2+t_4}t_5 = x_3 \\Rightarrow t_5 = k^{t_2+t_4}x_3,$$\n",
    "$$k^{t_1+t_3+t_5}t_6 \\Rightarrow t_6 = k^{t_1+t_3+t_5}y_3,$$\n",
    "$$\\vdots$$\n",
    "\n",
    "and we have the ternary expansion of $t$."
   ]
  },
  {
   "cell_type": "markdown",
   "id": "97da4eca",
   "metadata": {},
   "source": [
    "### Continuity\n",
    "\n",
    "For the sake of brevity, I'm going to skip this proof; it is a relatively straightforward but tedious example of analysis.  Peano included the proof in his paper."
   ]
  },
  {
   "cell_type": "markdown",
   "id": "74f6ca9c",
   "metadata": {},
   "source": [
    "### Non-injectivity\n",
    "\n",
    "This is brief enough to include.  Suppose that $f(s) = f(t)$, where $ s = 0_3s_1s_2s_3...,$ and $t = 0_3t_1t_2t_3...$.\n",
    "Then\n",
    "\n",
    "$$ f(s) = f(t) \\Rightarrow 0_3s_1(k^{s_2}s_3)(k^{s_2+s_4}s_5)(k^{s_2+s_4+s_6}s_7)... = 0_3t_1(k^{t_2}t_3)(k^{t_2+t_4}t_5)(k^{t_2+t_4+t_6}t_7)....$$\n",
    "\n",
    "So, $s_1 = t_1$, but (for example) $k^{s_2}s_3 = k^{t_2}t_3 \\Rightarrow s_3 = k^{s_2+t_2}t_3$, which means that these may be different and the same image point can originate from more than one object point."
   ]
  },
  {
   "cell_type": "markdown",
   "id": "77108c44",
   "metadata": {},
   "source": [
    "### Non-differentiability\n",
    "\n",
    "Peano included in the last line of his paper, the statement without proof that this mapping was everywhere continuous but nowhere differentiable.  The first proof of this was provided by E. H. Moore in 1900.  The book provides a proof, which is surprisingly both straightforward and succinct, but I omit it for brevity."
   ]
  },
  {
   "cell_type": "markdown",
   "id": "92dd6a7f",
   "metadata": {},
   "source": [
    "## Hilbert's Curve\n",
    "\n",
    "Amazingly, German mathematician David Hilbert read Peano's paper and saw that the Peano Construction was inherently *geometrical*.  In 1891, he published his own variant of it, defined entirely geometrically.  This is now known as the **Hilbert Curve**, and is the first ever space-filling curve to be explicitly given."
   ]
  },
  {
   "cell_type": "code",
   "execution_count": 391,
   "id": "52521c7a",
   "metadata": {
    "scrolled": false
   },
   "outputs": [
    {
     "data": {
      "image/png": "[encoded data removed]",
      "text/plain": [
       "<Figure size 576x432 with 2 Axes>"
      ]
     },
     "metadata": {
      "needs_background": "light"
     },
     "output_type": "display_data"
    }
   ],
   "source": [
    "# create instructive example plots of Hilbert Curve\n",
    "fig, (ax1, ax2) = subplots(1, 2)\n",
    "fig.suptitle(\"The first stage of the Hilbert curve\", y = 0.85)\n",
    "\n",
    "# outer squares:\n",
    "xSq = [0,0,1,1,0]\n",
    "ySq = [0,1,1,0,0]\n",
    "ax1.plot(xSq, ySq, 'k')\n",
    "ax2.plot(xSq, ySq, 'k')\n",
    "\n",
    "\n",
    "# left plot\n",
    "# add subsquares\n",
    "ax1.plot([0,1],[0.5,0.5],'k-', lw=0.5)\n",
    "ax1.plot([0.5,0.5],[0,1],'k-', lw=0.5)\n",
    "points = [(0.25, 0.25), (0.25, 0.75), (0.75, 0.75), (0.75, 0.25)]\n",
    "for x,y in points:\n",
    "    ax1.plot(x,y,'ko')\n",
    "start_point = points[0]\n",
    "for end_point in points[1:]:\n",
    "    ax1.annotate(\"\",xytext=start_point,xy=end_point, arrowprops={'arrowstyle': '->'})\n",
    "    start_point = end_point\n",
    "ax1.set_title(r\"(1a)\")\n",
    "\n",
    "# right plot\n",
    "xcurve = [item[0] for item in points]\n",
    "ycurve = [item[1] for item in points]\n",
    "ax2.plot(xcurve, ycurve,'b')\n",
    "ax2.set_title(r\"(1b)\")\n",
    "\n",
    "# force equal aspect ratio, remove spines and ticks\n",
    "def format_axes(ax):\n",
    "    ax.set_axis_off()\n",
    "    ax.set_aspect('equal', adjustable='box')\n",
    "    \n",
    "for ax in [ax1, ax2]:\n",
    "    format_axes(ax)\n"
   ]
  },
  {
   "cell_type": "markdown",
   "id": "2c83eae5",
   "metadata": {},
   "source": [
    "#### Stage 1\n",
    "\n",
    "Divide the square into four congruent subsquares, locate their centers, and join them in the order shown above in figure (1a) to yield the first iteration of the curve (shown in blue in (1b)).  We now elaborate on this path in subsequent stages, always moving the starting and ending point closer to the lower two corners of the original square.\n"
   ]
  },
  {
   "cell_type": "markdown",
   "id": "a7895e60",
   "metadata": {},
   "source": [
    "#### Stage 2\n",
    "\n",
    "Now, divide each of the four subsquares into four more subsquares, so that the original square shows 16 little squares.  Locate the centers of each of these smaller subsquares.  Our curve must pass through each of these centers exactly once.  Starting with the center closest to the lower left corner, traverse the four centers in the lower left quadrant by using the shape generated in the previous stage rotated appropriately (as shown in figure (2a) below).  Each subsequent quadrant will have another copy of that same shape, rotated so as to preserve continuity of the curve.  The result is shown in (2b), which is tidied up to (2c).  (2d) shows the resulting shape with the previous stage superimposed in dotted line."
   ]
  },
  {
   "cell_type": "code",
   "execution_count": 392,
   "id": "07cfff3c",
   "metadata": {},
   "outputs": [
    {
     "data": {
      "image/png": "[encoded data removed]",
      "text/plain": [
       "<Figure size 800x600 with 4 Axes>"
      ]
     },
     "metadata": {
      "needs_background": "light"
     },
     "output_type": "display_data"
    }
   ],
   "source": [
    "# stage 2 figures\n",
    "matplotlib.rcParams['figure.dpi'] = 100\n",
    "fig, [[ax1,ax2],[ax3,ax4]] = subplots(2, 2, squeeze = True)\n",
    "fig.suptitle(\"The second stage of the Hilbert curve\")\n",
    "    \n",
    "n = 4\n",
    "# outer squares:\n",
    "low, high = -0.5, n - 0.5\n",
    "xSq = [low,low,high,high,low]\n",
    "ySq = [low,high,high,low,low]\n",
    "\n",
    "# install outer square in each of the four figures\n",
    "for ax in [ax1, ax2, ax3, ax4]:\n",
    "    ax.plot(xSq, ySq,'k')\n",
    "\n",
    "xc = [0]\n",
    "yc = [0]\n",
    "for d in range(1, n+1 ):\n",
    "    x,y = d2xy(n,d)\n",
    "    xc.append(x)\n",
    "    yc.append(y)\n",
    "ax1.plot(xc, yc, 'k.')\n",
    "xc = array(xc)\n",
    "yc = array(yc)\n",
    "ax1.quiver(xc[:-1], yc[:-1], xc[1:]-xc[:-1], yc[1:] - yc[:-1], scale_units = 'xy', angles = 'xy',scale = 1,\n",
    "          color='blue')\n",
    "# add subsquares\n",
    "for ax in [ax1, ax2]:\n",
    "    ax.plot([low,high],[1.5,1.5],'k-', lw=0.5)\n",
    "    ax.plot([1.5,1.5],[low,high],'k-', lw=0.5)\n",
    "    \n",
    "ax1.plot([low,1.5],[0.5,0.5],'k-', lw=0.5)\n",
    "ax1.plot([0.5,0.5],[low,1.5],'k-', lw=0.5)\n",
    "ax1.set_title(\"(2a)\")\n",
    "#.set_xlim([-0.1,4.1])\n",
    "#ax1.set_ylim([-0.1,4.1])\n",
    "\n",
    "# next plot\n",
    "xc = list(xc)\n",
    "yc = list(yc)\n",
    "for d in range(5, n**2):\n",
    "    x,y = d2xy(n,d)\n",
    "    xc.append(x)\n",
    "    yc.append(y)\n",
    "ax2.plot(xc, yc, 'b.-')\n",
    "ax2.plot([low,high],[0.5,0.5],'k-', lw=0.5)\n",
    "ax2.plot([0.5,0.5],[low,high],'k-', lw=0.5)\n",
    "ax2.plot([low,high],[2.5,2.5],'k-', lw=0.5)\n",
    "ax2.plot([02.5,02.5],[low,high],'k-', lw=0.5)\n",
    "ax2.set_title(\"(2b)\")\n",
    "\n",
    "# plot 3\n",
    "ax3.plot(xc, yc, 'b-')\n",
    "ax3.set_title(\"(2c)\")\n",
    "\n",
    "# plot4\n",
    "ax4.plot(xc, yc, 'b-')\n",
    "xarr = array(xcurve)*4 - 0.5\n",
    "yarr = array(ycurve)*4 - 0.5\n",
    "ax4.plot(xarr, yarr, 'b--', lw=0.5)\n",
    "ax4.set_title(\"(2d)\")\n",
    "\n",
    "for ax in [ax1,ax2,ax3,ax4]:\n",
    "    format_axes(ax)"
   ]
  },
  {
   "cell_type": "markdown",
   "id": "4be91fa4",
   "metadata": {},
   "source": [
    "#### Stage 3\n",
    "\n",
    "The steps from the previous stage are repeated; the subsquares are divided in two again, the starting point is located as the center of the subsquare nearest the lower left corner of the main square, and the pattern from stage 2 is fitted into the lower left quadrant in such a way that it exits into the upper left quadrant, as shown in figure (3a) below.  Repeating with subsequent quadrants results in figure (3b), on which is superimposed the outline (dotted) of the stage 2 curve."
   ]
  },
  {
   "cell_type": "code",
   "execution_count": 393,
   "id": "9735778d",
   "metadata": {},
   "outputs": [
    {
     "data": {
      "image/png": "[encoded data removed]",
      "text/plain": [
       "<Figure size 800x600 with 2 Axes>"
      ]
     },
     "metadata": {
      "needs_background": "light"
     },
     "output_type": "display_data"
    }
   ],
   "source": [
    "# stage 3 figures\n",
    "matplotlib.rcParams['figure.dpi'] = 100\n",
    "fig3, [ax31, ax32] = subplots(1, 2, squeeze = True)\n",
    "fig3.suptitle(\"The third stage of the Hilbert curve\", y =0.85)\n",
    "\n",
    "    \n",
    "n = 8\n",
    "# outer squares:\n",
    "low, high = -0.5, n - 0.5\n",
    "x3Sq = [low,low,high,high,low]\n",
    "y3Sq = [low,high,high,low,low]\n",
    "\n",
    "# install outer square in each of the four figures\n",
    "for ax in [ax31, ax32]:\n",
    "    ax.plot(x3Sq, y3Sq,'k')\n",
    "\n",
    "xc3 = [0]\n",
    "yc3 = [0]\n",
    "for d in range(1, 17 ):\n",
    "    x,y = d2xy(n,d)\n",
    "    xc3.append(x)\n",
    "    yc3.append(y)\n",
    "ax31.plot(xc3, yc3, 'k.')\n",
    "xc3 = array(xc3)\n",
    "yc3 = array(yc3)\n",
    "ax31.quiver(xc3[:-1], yc3[:-1], xc3[1:]-xc3[:-1], yc3[1:] - yc3[:-1], scale_units = 'xy', angles = 'xy',scale = 1,\n",
    "           color='blue')\n",
    "# add subsquares\n",
    "for dd in [1,2,3,4,5,6,7]:\n",
    "    pos = dd - 0.5\n",
    "    ax31.plot([low,high],[pos, pos],'k-', lw=0.5)\n",
    "    ax31.plot([pos, pos],[low,high],'k-', lw=0.5)\n",
    "    \n",
    "ax31.set_title(\"(3a)\")\n",
    "\n",
    "# next plot\n",
    "xc3 = list(xc3)\n",
    "yc3 = list(yc3)\n",
    "for d in range(17, n**2):\n",
    "    x,y = d2xy(n,d)\n",
    "    xc3.append(x)\n",
    "    yc3.append(y)\n",
    "ax32.plot(xc3, yc3, 'b-')\n",
    "ax32.set_title(\"(3b)\")\n",
    "\n",
    "# add previous iteration\n",
    "xarr3 = array(xc)*2 + 0.5\n",
    "yarr3 = array(yc)*2 + 0.5\n",
    "ax32.plot(xarr3, yarr3, 'b--', lw=0.5)\n",
    "\n",
    "for ax in [ax31,ax32,ax33:\n",
    "    format_axes(ax)"
   ]
  },
  {
   "cell_type": "code",
   "execution_count": 394,
   "id": "31ba691b",
   "metadata": {
    "scrolled": false
   },
   "outputs": [],
   "source": [
    "x0 = array([0,0,1,1])\n",
    "y0 = array([0,1,1,0])\n",
    "\n",
    "def rot4(xn, yn, xx, yy, d = 2):\n",
    "    '''rotation for Hilbert curve'''\n",
    "    # rotate only on bottom row:\n",
    "    if yy == 0:\n",
    "        # bottom right square inverts X and Y first\n",
    "        if xx == 1:\n",
    "            yn = d - yn - 1\n",
    "            xn = d - xn - 1\n",
    "        # exchange X and Y coordinates; rotate about X=Y\n",
    "        t = xn\n",
    "        xn = yn\n",
    "        yn = t\n",
    "    return xn, yn\n",
    "\n",
    "def Hilbert(n, junk=0):\n",
    "    '''generate Hilbert curve:\n",
    "        n = 2**'''\n",
    "\n",
    "    d = n\n",
    "    if n==2:\n",
    "        return x0, y0\n",
    "    else:\n",
    "        xout = array([])\n",
    "        yout = array([])\n",
    "        d //= 2\n",
    "        xn, yn = myHil(d)\n",
    "        for im in range(4):\n",
    "            xx = x0[im]\n",
    "            yy = y0[im]\n",
    "            xnew, ynew = rot4(xn,yn,xx,yy,d)\n",
    "            xout = append(xout, d*xx + xnew)\n",
    "            yout = append(yout, d*yy + ynew)\n",
    "        return xout, yout\n",
    "    \n",
    "#x, y = Hilbert(32)\n",
    "#plot(x,y)\n",
    "\n"
   ]
  },
  {
   "cell_type": "markdown",
   "id": "4bd52482",
   "metadata": {},
   "source": [
    "### Repeat\n",
    "\n",
    "By repeating the above steps, we get the next three stages of the curve, as shown in figures (4a), (4b), and (4c) below:"
   ]
  },
  {
   "cell_type": "code",
   "execution_count": 395,
   "id": "68a325b0",
   "metadata": {},
   "outputs": [
    {
     "data": {
      "image/png": "[encoded data removed]",
      "text/plain": [
       "<Figure size 1080x810 with 3 Axes>"
      ]
     },
     "metadata": {
      "needs_background": "light"
     },
     "output_type": "display_data"
    }
   ],
   "source": [
    "# subsequent generations figure\n",
    "\n",
    "matplotlib.rcParams['figure.dpi'] = 135\n",
    "fig4, axes = subplots(1, 3)\n",
    "fig4.suptitle(\"Subsequent stages of Hilbert curve\", y =0.75)\n",
    "\n",
    "# outer squares:\n",
    "\n",
    "for ax, n in zip(axes,[16, 32, 64]):\n",
    "    x, y = Hilbert(n)\n",
    "    low, high = -0.5, n - 0.5\n",
    "    xSq = [low,low,high,high,low]\n",
    "    ySq = [low,high,high,low,low]\n",
    "    ax.plot(xSq, ySq, 'k')\n",
    "    ax.plot(x,y,'b', lw=1)\n",
    "    format_axes(ax)\n",
    "\n",
    "for ax, letter in zip(axes, 'abc'):\n",
    "    ax.set_title(f\"(4{letter})\")"
   ]
  },
  {
   "cell_type": "markdown",
   "id": "51d32c11",
   "metadata": {},
   "source": [
    "What we have here is a purely geometrically defined process that generates an ever more closely-packed curve that progressively expands to the edges of the original square.\n",
    "\n",
    "In the infinite limit, it is (*i.e.* it has been proven, but we will skip the proofs) continuous, surjective (every point in the square is hit), non-injective (some points in the square are hit by more than one point from the unit line) and non-differentiable everywhere."
   ]
  },
  {
   "cell_type": "markdown",
   "id": "55876399",
   "metadata": {},
   "source": [
    "## The Peano Curve\n",
    "\n",
    "Hilbert's genius recognized Peano's construction as being *geometric* in nature.  Referring back to the Peano construction, first note that $f(0) = (0,0)$ and $f(1) = f_x(0_322222...), f_y(0_322222...) = (1,1)$, so the curve starts at the bottom left of the square and exits at the top right.  Next, observe that any number of the form $0_300t_3t_4t_5...$ gets mapped into coordinates of the form $(0_30\\alpha_2\\alpha_3\\alpha_4..., 0_30\\beta_2\\beta_3\\beta_4...)$, meaning that the subinterval $[0, \\frac{1}{9}]$ gets mapped into the subsquare $[0,\\frac{1}{3}] \\times [0,\\frac{1}{3}]$.  Similarly, since\n",
    "\n",
    "$$f(0_3001t_3t_4t_5...) = \\binom{0_30\\alpha_2\\alpha_3\\alpha_4...}{0_31\\beta_2\\beta_3\\beta_4...}$$\n",
    "\n",
    "the subinterval $[\\frac{1}{9}, \\frac{2}{9}]$ is mapped into the subsquare $[0,\\frac{1}{3}] \\times [\\frac{1}{3},\\frac{2}{3}]$, and the subinterval $[\\frac{2}{9}, \\frac{23}{9}]$ is mapped into the subsquare $[0,\\frac{1}{3}] \\times [\\frac{2}{3},1]$, *etc.*  In general, the subinterval $[\\frac{1}{9}(n-1), \\frac{1}{9}n]$ is mapped onto the subsquare $n$ as shown in figure (5a).  Since the curve is continuous, the centers of the squares are joined in this order, as shown in (5b) below, with the completed first iteration shown in (5c).\n"
   ]
  },
  {
   "cell_type": "code",
   "execution_count": 396,
   "id": "9b08b29b",
   "metadata": {},
   "outputs": [
    {
     "data": {
      "image/png": "[encoded data removed]",
      "text/plain": [
       "<Figure size 1080x810 with 3 Axes>"
      ]
     },
     "metadata": {
      "needs_background": "light"
     },
     "output_type": "display_data"
    }
   ],
   "source": [
    "matplotlib.rcParams['figure.dpi'] = 135\n",
    "fig5, axes = subplots(1, 3)\n",
    "fig5.suptitle(\"Constructing Peano's curve\", y =0.75)\n",
    "\n",
    "n = 3\n",
    "low, high = -0.5, n - 0.5\n",
    "xpp, ypp = Peano(n)\n",
    "xppa = array(xpp)\n",
    "yppa = array(ypp)\n",
    "\n",
    "# first plot\n",
    "coords = [(0, 0.), (0.,1),(0.,2),(1,2),(1,1),(1,0),(2,0),(2,1),(2,2)]\n",
    "for i, (x,y) in enumerate(coords):\n",
    "    axes[0].text( x, y, f'{i+1}',ha='center', va = 'center')\n",
    "\n",
    "axes[0].set_title(\"(5a)\")\n",
    "for dd in [1,2]:\n",
    "    for ax in axes[:2]:\n",
    "        pos = dd - 0.5\n",
    "        ax.plot([low,high],[pos, pos],'k-', lw=0.5)\n",
    "        ax.plot([pos, pos],[low,high],'k-', lw=0.5)\n",
    "    \n",
    "axes[1].quiver(xppa[:-1], yppa[:-1], xppa[1:]-xppa[:-1], yppa[1:] - yppa[:-1], scale_units = 'xy', angles = 'xy',scale = 1,\n",
    "              color = 'blue')\n",
    "axes[1].set_title(\"(5b)\")\n",
    "\n",
    "axes[2].plot(xpp, ypp, 'b')\n",
    "axes[2].set_title(\"(5c)\")\n",
    "for ax in axes:\n",
    "    xSq = [low,low,high,high,low]\n",
    "    ySq = [low,high,high,low,low]\n",
    "    ax.plot(xSq, ySq,'k')\n",
    "    \n",
    "    format_axes(ax)"
   ]
  },
  {
   "cell_type": "markdown",
   "id": "dfe83477",
   "metadata": {},
   "source": [
    "### Dimensionality\n",
    "\n",
    "These space-filling curves are very \"crinkly\" and reminiscent of fractals -- they share the property of self-similarity with fractals.  But they are not fractals, as in any finite iteration, the curves are unequivocally one dimensional (rather than having a fractional dimension).  In the limit of infinite iterations, they become a two-dimensional square.  There is no intermediate state.\n"
   ]
  },
  {
   "cell_type": "markdown",
   "id": "9c695f9e",
   "metadata": {},
   "source": [
    "You can explore both the Hilbert and Peano curves using the interactive tool below.  \n",
    "\n",
    "First, a word on variants of the Peano Curve.  (Here I am leaving my main source, the book on curves, and using several Web resources which are identified below).  Based on the shape of the first iteration of the Peano Curve and the order in which the subsquares are entered and exited, there are different orientations possible.  Consider first where the curve must enter a subsquare, and where it must leave.  For each of the four possible directions there are two ways to get from one corner to the opposite one in an \"S\" motion."
   ]
  },
  {
   "cell_type": "code",
   "execution_count": 397,
   "id": "fc849735",
   "metadata": {
    "scrolled": false
   },
   "outputs": [
    {
     "data": {
      "image/png": "[encoded data removed]",
      "text/plain": [
       "<Figure size 800x600 with 4 Axes>"
      ]
     },
     "metadata": {
      "needs_background": "light"
     },
     "output_type": "display_data"
    }
   ],
   "source": [
    "# Peano Variant explanation\n",
    "matplotlib.rcParams['figure.dpi'] = 100\n",
    "figV, [[axv1,axv2],[axv3,axv4]] = subplots(2, 2, squeeze = True)\n",
    "figV.suptitle(\"Variations of the Peano curve\")\n",
    "\n",
    "# first plot\n",
    "axv1.set_title(\"(6a)\")\n",
    "coords = [(0, 0.), (0.,1),(0.,2),(1,2),(1,1),(1,0),(2,0),(2,1),(2,2)]\n",
    "for i, (x,y) in enumerate(coords):\n",
    "    axv1.text( x, y, f'{i+1}',ha='center', va = 'center')\n",
    "\n",
    "low, high = -0.5, n - 0.5\n",
    "xSq = [low,low,high,high,low]\n",
    "ySq = [low,high,high,low,low]\n",
    "for ax in [axv1, axv2]:\n",
    "    ax.plot(xSq, ySq,'k')\n",
    "    for dd in [1,2]:\n",
    "        pos = dd - 0.5\n",
    "        ax.plot([low,high],[pos, pos],'k-', lw=0.5)\n",
    "        ax.plot([pos, pos],[low,high],'k-', lw=0.5)\n",
    "    \n",
    "# add arrows to second plot\n",
    "axv2.set_title(\"(6b)\")\n",
    "style = patches.ArrowStyle('->')\n",
    "kw = dict(arrowstyle=style, color='k', mutation_scale=15)\n",
    "arrows = []\n",
    "# up right\n",
    "arrows.append(patches.FancyArrowPatch((-0.45,-0.45), (0.45, 0.45),  **kw))\n",
    "arrows.append(patches.FancyArrowPatch((-0.45,1.55), (0.45, 2.45),  **kw))\n",
    "arrows.append(patches.FancyArrowPatch((1.55,1.55), (2.45, 2.45),  **kw))\n",
    "arrows.append(patches.FancyArrowPatch((1.55,-0.45), (2.45, 0.45),  **kw))\n",
    "# up left\n",
    "arrows.append(patches.FancyArrowPatch((0.45, 0.55), (-0.45, 1.45), **kw))\n",
    "arrows.append(patches.FancyArrowPatch((2.45, 0.55), (1.55, 1.45), **kw))\n",
    "# down right\n",
    "arrows.append(patches.FancyArrowPatch((0.55, 2.45), (1.45, 1.55), **kw))\n",
    "arrows.append(patches.FancyArrowPatch((0.55, 0.45), (1.45, -0.45), **kw))\n",
    "# down left\n",
    "arrows.append(patches.FancyArrowPatch((1.45, 1.45), (0.55, 0.55), **kw))\n",
    "\n",
    "for arrow in arrows:\n",
    "    axv2.add_patch(arrow)\n",
    "\n",
    "# figure c\n",
    "axv3.set_title(\"(6c)\")\n",
    "axv3.plot(xppa, yppa, 'b')\n",
    "long_a = patches.FancyArrowPatch((0.05,0.05), (1.95, 1.95),  **kw)\n",
    "axv3.add_patch(long_a)\n",
    "\n",
    "# figure d\n",
    "axv4.set_title(\"(6d)\")\n",
    "axv4.plot(yppa, xppa, 'b')\n",
    "long_b = patches.FancyArrowPatch((0.05,0.05), (1.95, 1.95),  **kw)\n",
    "axv4.add_patch(long_b)\n",
    "\n",
    "for ax in [axv1, axv2, axv3, axv4]:  \n",
    "    format_axes(ax)"
   ]
  },
  {
   "cell_type": "markdown",
   "id": "13f6a8cd",
   "metadata": {},
   "source": [
    "#### Number of Variations\n",
    "\n",
    "For each of the 9 squares there are two alternative choices, leading to $2^9 = 512$ sequences defined by the 9-digit binary representations (*e.g.* $2 = 0_2000000010$ would mean flip the curve in box '2' but leave it unflipped in the other 8 boxes).  Of these, $2^4 \\cdot 2 = 32$ are palindromic (in binary), leading to curves with the *same* central symmetry.  The remaining $480 = 512 - 32$ asymmetric curves come in pairs, each of which is related to each other by central symmetry with respect to the center of the unit square:  hence there are $480/2 + 32 = 272$ essentially distinct variations of the Peano curve."
   ]
  },
  {
   "cell_type": "code",
   "execution_count": 398,
   "id": "d5e89f8a",
   "metadata": {},
   "outputs": [],
   "source": [
    "# attempt Peano curve\n",
    "# include variants in 'variant' number, num\n",
    "# num & (power of 2) --> use variant version in this cell\n",
    "\n",
    "# basic curve data\n",
    "xp0 = array([0,0,0,1,1,1,2,2,2])\n",
    "yp0 = array([0,1,2,2,1,0,0,1,2])\n",
    "\n",
    "def is_rotated(im, var = 0):\n",
    "    '''extracts im-th smallest binary digit from var'''\n",
    "    out = False\n",
    "    try:\n",
    "        out = int(bin(var)[2:][-(im+1)])\n",
    "    except IndexError:\n",
    "        pass\n",
    "    return out\n",
    "        \n",
    "def pearot2(xn, yn, im, d = 3, var = 0):\n",
    "    xx = xp0[im]\n",
    "    yy = yp0[im]\n",
    "    flip = (is_rotated(im,var)  and d == 3)\n",
    "    #print(im, var, d, flip)\n",
    "    #print(\"    \", is_rotated(im,var), d==3)\n",
    "    if flip:\n",
    "        t = xn\n",
    "        xn = yn\n",
    "        yn = t \n",
    "        \n",
    "    if xx == 1:\n",
    "        yn = d-1 - yn\n",
    "        \n",
    "    if yy == 1:\n",
    "        xn = d-1 - xn\n",
    "        \n",
    "    return xn, yn\n",
    "\n",
    "def PeanoVar(n, var = 0):\n",
    "    \n",
    "    d = n\n",
    "    if n==3:\n",
    "        return xp0, yp0\n",
    "    else:\n",
    "        xout = array([])\n",
    "        yout = array([])\n",
    "        d //= 3\n",
    "        xn, yn = PeanoVar(d,var)\n",
    "        for im in range(9):\n",
    "            xx = xp0[im]\n",
    "            yy = yp0[im]\n",
    "            xnew, ynew = pearot2(xn,yn,im,d,var)\n",
    "            xout = append(xout, d*xx + xnew)\n",
    "            yout = append(yout, d*yy + ynew)\n",
    "        return xout, yout\n",
    "    \n",
    "#xp, yp = PeanoVar(9,3)\n",
    "#plot(xp,yp)\n",
    "\n"
   ]
  },
  {
   "cell_type": "markdown",
   "id": "40244722",
   "metadata": {},
   "source": [
    "## Explore space-filling curves\n",
    "\n",
    "Use the controls below to select either Peano or Hilbert curves, then use the drop box to select the stage of the curve.  If Peano is selected, then the selection of variation number is enabled.  This allows selection of 512 variations, some of which (as explained above) are essentially the same."
   ]
  },
  {
   "cell_type": "code",
   "execution_count": 399,
   "id": "c706bd41",
   "metadata": {},
   "outputs": [
    {
     "data": {
      "application/vnd.jupyter.widget-view+json": {
       "model_id": "2942ea3052d04d7eb6516bdf5f295375",
       "version_major": 2,
       "version_minor": 0
      },
      "text/plain": [
       "VBox(children=(Figure(axes=[Axis(num_ticks=0, scale=LinearScale(), visible=False), Axis(num_ticks=0, orientati…"
      ]
     },
     "metadata": {},
     "output_type": "display_data"
    }
   ],
   "source": [
    "# interactive space filling plot\n",
    "\n",
    "fig_layout = widgets.Layout(height = \"400px\", width = \"400px\")\n",
    "fig_margin_dict = dict(top=30, bottom = 30, left = 20, right = 10)\n",
    "\n",
    "main_fig = plt.figure(title=\"Peano Curve\", layout = fig_layout, fig_margin = fig_margin_dict)\n",
    "xp, yp = Peano(9)\n",
    "space_curve = plt.plot(xp,yp)\n",
    "xax, yax = plt.axes()['x'], plt.axes()['y']\n",
    "xax.num_ticks = 0\n",
    "yax.num_ticks = 0\n",
    "xax.visible = False\n",
    "yax.visible = False\n",
    "\n",
    "# curve selector\n",
    "curve_choice = widgets.Dropdown(options = ['Peano', 'Hilbert'], value = 'Peano', description = \"Curve: \")\n",
    "\n",
    "# curve order, type selectors\n",
    "curve_order = widgets.BoundedIntText(value = 2, min=1, max = 5, step = 1, description = \"Order: \")\n",
    "curve_variant = widgets.BoundedIntText(value = 0, min=0, max = 511, step = 1, description = \"Variant: \")\n",
    "choice_box = widgets.HBox([curve_order, curve_variant])\n",
    "\n",
    "# callback\n",
    "def update(change):\n",
    "    name = curve_choice.value\n",
    "    n = curve_order.value\n",
    "    if name == \"Peano\":\n",
    "        curve_variant.disabled=False\n",
    "        curve_order.max = 5\n",
    "        main_fig.title = \"Peano Curve\"\n",
    "        plot_function = PeanoVar\n",
    "        d = 3**n\n",
    "        args = [d, curve_variant.value]\n",
    "    else:\n",
    "        curve_variant.disabled = True\n",
    "        curve_order.max = 7\n",
    "        main_fig.title = \"Hilbert Curve\"\n",
    "        plot_function = Hilbert\n",
    "        d = 2**n\n",
    "        args = [d]\n",
    "        \n",
    "    xp, yp = plot_function(*args)\n",
    "    space_curve.x = xp\n",
    "    space_curve.y = yp\n",
    "    \n",
    "curve_order.observe(update, names = 'value')\n",
    "curve_choice.observe(update, names = 'value')\n",
    "curve_variant.observe(update, names = 'value')\n",
    "\n",
    "widgets.VBox([main_fig, curve_choice, choice_box])"
   ]
  },
  {
   "cell_type": "markdown",
   "id": "06d736d2",
   "metadata": {},
   "source": [
    "### Uses\n",
    "\n",
    "Surprisingly enough, space-filling curves are actually useful!  Partly, this is due to the fact that they preserve locality; points that are close to each other on the unit square are likely to be close to each other on the curve as well.  \n",
    "\n",
    "In the classic [Chinese Postman Problem](https://en.wikipedia.org/wiki/Route_inspection_problem), the goal is to find the shortes closed path that visits every edge of an undirected graph -- *i.e.* how can the postman deliver all the mail by walking the shortes route?  When there are many stops, finding an exact solution to this problem becomes *very* difficult.  But, by mapping the destinations onto a space-filling curve of the appropriate level, reasonably good approximate solutions are possible.\n",
    "\n",
    "They have also seen applications in image processing and memory storage.\n",
    "\n"
   ]
  },
  {
   "cell_type": "markdown",
   "id": "a1238789",
   "metadata": {},
   "source": [
    "### Other sources\n",
    "\n",
    "Besides the book \"Curves for the Mathematically Curious,\" by Julian Havil, here are a couple more excellent sites for space-filling curves:\n",
    "\n",
    "[Crinkly Curves in the American Scientist](https://www.americanscientist.org/article/crinkly-curves)\n",
    "\n",
    "[All Peano Curves](https://www.cut-the-knot.org/Curriculum/Geometry/PeanoComplete.shtml)"
   ]
  },
  {
   "cell_type": "markdown",
   "id": "22874be6",
   "metadata": {},
   "source": [
    "#### Implementation notes:\n",
    "\n",
    "As in previous notebooks, both ```matplotlib``` and ```bqplot``` are used for plotting, with the latter used for the interactive plot.  I eventually settled on recursive algorithms of my own devising to generate both the Hilbert and Peano curves (with variatons for the latter), but I started with (and still use for the top figure) an algorithm taken from the wikipedia page for the Hilbert curve that maps distance on the unit line into the unit square very efficiently."
   ]
  },
  {
   "cell_type": "code",
   "execution_count": null,
   "id": "3243982c",
   "metadata": {},
   "outputs": [],
   "source": []
  },
  {
   "cell_type": "code",
   "execution_count": null,
   "id": "e1a46eb8",
   "metadata": {},
   "outputs": [],
   "source": []
  }
 ],
 "metadata": {
  "kernelspec": {
   "display_name": "Python 3",
   "language": "python",
   "name": "python3"
  },
  "language_info": {
   "codemirror_mode": {
    "name": "ipython",
    "version": 3
   },
   "file_extension": ".py",
   "mimetype": "text/x-python",
   "name": "python",
   "nbconvert_exporter": "python",
   "pygments_lexer": "ipython3",
   "version": "3.8.8"
  }
 },
 "nbformat": 4,
 "nbformat_minor": 5
}
